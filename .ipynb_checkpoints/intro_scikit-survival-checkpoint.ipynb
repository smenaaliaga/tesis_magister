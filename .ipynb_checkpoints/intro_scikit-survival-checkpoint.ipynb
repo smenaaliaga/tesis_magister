{
 "cells": [
  {
   "cell_type": "markdown",
   "id": "a2f255a8-ed44-4c92-9f55-80c18a805d27",
   "metadata": {},
   "source": [
    "# Introducción al Análisis de Supervivencia con sckit-survival"
   ]
  },
  {
   "cell_type": "code",
   "execution_count": 1,
   "id": "660a9cbc-4c06-48ab-8a7a-9951bf72189e",
   "metadata": {},
   "outputs": [
    {
     "name": "stderr",
     "output_type": "stream",
     "text": [
      "/usr/lib/python3/dist-packages/pkg_resources/__init__.py:116: PkgResourcesDeprecationWarning: 1.1build1 is an invalid version and will not be supported in a future release\n",
      "  warnings.warn(\n",
      "/usr/lib/python3/dist-packages/pkg_resources/__init__.py:116: PkgResourcesDeprecationWarning: 0.1.43ubuntu1 is an invalid version and will not be supported in a future release\n",
      "  warnings.warn(\n"
     ]
    }
   ],
   "source": [
    "import pandas as pd\n",
    "import numpy as np\n",
    "import matplotlib.pyplot as plt\n",
    "%matplotlib inline\n",
    "\n",
    "from sksurv.datasets import load_breast_cancer\n",
    "from sksurv.linear_model import CoxPHSurvivalAnalysis, CoxnetSurvivalAnalysis\n",
    "from sksurv.preprocessing import OneHotEncoder\n",
    "\n",
    "from sklearn import set_config\n",
    "from sklearn.model_selection import GridSearchCV, KFold\n",
    "from sklearn.pipeline import make_pipeline\n",
    "from sklearn.preprocessing import StandardScaler\n",
    "\n",
    "set_config(display=\"text\")  # displays text representation of estimators"
   ]
  },
  {
   "cell_type": "markdown",
   "id": "4322ce9d-5cea-4787-990c-6ba6812ea025",
   "metadata": {},
   "source": [
    "## Datos"
   ]
  },
  {
   "cell_type": "markdown",
   "id": "6211adcd-e59a-4181-bb33-6afcd54eb3b8",
   "metadata": {},
   "source": [
    "El Ensayo de Cáncer de Pulmón de la Administración de Veteranos es un ensayo aleatorizado de dos regímenes de tratamiento para el cáncer de pulmón. El conjunto de datos (Kalbfleisch J. y Prentice R, (1980) The Statistical Analysis of Failure Time Data. Nueva York: Wiley) consta de 137 pacientes y 8 variables, que se describen a continuación:    \n",
    "\n",
    "- Treatment: denota el tipo de tratamiento del cáncer de pulmón; standard y test.\n",
    "- Celltype: denota el tipo de célula involucrada; squamous, small cell, adeno, large.\n",
    "- Karnofsky_score: es la partitura de Karnofsky.\n",
    "- Diag: es el tiempo transcurrido desde el diagnóstico en meses.\n",
    "- Age: es la edad en años.\n",
    "- Prior_Therapy: denota cualquier terapia previa; none o yes.\n",
    "- Status: denota el estado del paciente como vivo o muerto; alive o dead.\n",
    "- Survival_in_days: es el tiempo de supervivencia en días transcurridos desde el tratamiento."
   ]
  },
  {
   "cell_type": "code",
   "execution_count": 2,
   "id": "9c6b58a0-fb7e-4272-9148-050fb5aad5b1",
   "metadata": {},
   "outputs": [
    {
     "data": {
      "text/plain": [
       "array([( True,  72.), ( True, 411.), ( True, 228.), ( True, 126.),\n",
       "       ( True, 118.), ( True,  10.), ( True,  82.), ( True, 110.),\n",
       "       ( True, 314.), (False, 100.), ( True,  42.), ( True,   8.),\n",
       "       ( True, 144.), (False,  25.), ( True,  11.), ( True,  30.),\n",
       "       ( True, 384.), ( True,   4.), ( True,  54.), ( True,  13.),\n",
       "       (False, 123.), (False,  97.), ( True, 153.), ( True,  59.),\n",
       "       ( True, 117.), ( True,  16.), ( True, 151.), ( True,  22.),\n",
       "       ( True,  56.), ( True,  21.), ( True,  18.), ( True, 139.),\n",
       "       ( True,  20.), ( True,  31.), ( True,  52.), ( True, 287.),\n",
       "       ( True,  18.), ( True,  51.), ( True, 122.), ( True,  27.),\n",
       "       ( True,  54.), ( True,   7.), ( True,  63.), ( True, 392.),\n",
       "       ( True,  10.), ( True,   8.), ( True,  92.), ( True,  35.),\n",
       "       ( True, 117.), ( True, 132.), ( True,  12.), ( True, 162.),\n",
       "       ( True,   3.), ( True,  95.), ( True, 177.), ( True, 162.),\n",
       "       ( True, 216.), ( True, 553.), ( True, 278.), ( True,  12.),\n",
       "       ( True, 260.), ( True, 200.), ( True, 156.), (False, 182.),\n",
       "       ( True, 143.), ( True, 105.), ( True, 103.), ( True, 250.),\n",
       "       ( True, 100.), ( True, 999.), ( True, 112.), (False,  87.),\n",
       "       (False, 231.), ( True, 242.), ( True, 991.), ( True, 111.),\n",
       "       ( True,   1.), ( True, 587.), ( True, 389.), ( True,  33.),\n",
       "       ( True,  25.), ( True, 357.), ( True, 467.), ( True, 201.),\n",
       "       ( True,   1.), ( True,  30.), ( True,  44.), ( True, 283.),\n",
       "       ( True,  15.), ( True,  25.), (False, 103.), ( True,  21.),\n",
       "       ( True,  13.), ( True,  87.), ( True,   2.), ( True,  20.),\n",
       "       ( True,   7.), ( True,  24.), ( True,  99.), ( True,   8.),\n",
       "       ( True,  99.), ( True,  61.), ( True,  25.), ( True,  95.),\n",
       "       ( True,  80.), ( True,  51.), ( True,  29.), ( True,  24.),\n",
       "       ( True,  18.), (False,  83.), ( True,  31.), ( True,  51.),\n",
       "       ( True,  90.), ( True,  52.), ( True,  73.), ( True,   8.),\n",
       "       ( True,  36.), ( True,  48.), ( True,   7.), ( True, 140.),\n",
       "       ( True, 186.), ( True,  84.), ( True,  19.), ( True,  45.),\n",
       "       ( True,  80.), ( True,  52.), ( True, 164.), ( True,  19.),\n",
       "       ( True,  53.), ( True,  15.), ( True,  43.), ( True, 340.),\n",
       "       ( True, 133.), ( True, 111.), ( True, 231.), ( True, 378.),\n",
       "       ( True,  49.)],\n",
       "      dtype=[('Status', '?'), ('Survival_in_days', '<f8')])"
      ]
     },
     "execution_count": 2,
     "metadata": {},
     "output_type": "execute_result"
    }
   ],
   "source": [
    "from sksurv.datasets import load_veterans_lung_cancer\n",
    "\n",
    "data_x, data_y = load_veterans_lung_cancer()\n",
    "data_y"
   ]
  },
  {
   "cell_type": "markdown",
   "id": "2813c727-0ac9-46f3-b2bc-a07a3cceb5e8",
   "metadata": {},
   "source": [
    "## Modelos de Supervivencia Univariado : Kaplan-Meier"
   ]
  },
  {
   "cell_type": "markdown",
   "id": "54a3bc27-76d4-43cc-bb56-636a584e1868",
   "metadata": {},
   "source": [
    "Una cantidad clave en el análisis de supervivencia es la llamada función de supervivencia, que relaciona el tiempo con la probabilidad de sobrevivir más allá de un punto de tiempo dado.\n",
    "\n",
    "Dejar $T$ denotan una variable aleatoria continua no negativa correspondiente al tiempo de supervivencia de un paciente. La función de supervivencia $S(t)$ devuelve la probabilidad de supervivencia más allá del tiempo y se define como\n",
    "\n",
    "$ S(t) = P( T > t ) $"
   ]
  },
  {
   "cell_type": "code",
   "execution_count": 3,
   "id": "fd8c72be-337f-44ec-9e09-a892db8898ed",
   "metadata": {},
   "outputs": [
    {
     "data": {
      "text/html": [
       "<div>\n",
       "<style scoped>\n",
       "    .dataframe tbody tr th:only-of-type {\n",
       "        vertical-align: middle;\n",
       "    }\n",
       "\n",
       "    .dataframe tbody tr th {\n",
       "        vertical-align: top;\n",
       "    }\n",
       "\n",
       "    .dataframe thead th {\n",
       "        text-align: right;\n",
       "    }\n",
       "</style>\n",
       "<table border=\"1\" class=\"dataframe\">\n",
       "  <thead>\n",
       "    <tr style=\"text-align: right;\">\n",
       "      <th></th>\n",
       "      <th>Status</th>\n",
       "      <th>Survival_in_days</th>\n",
       "    </tr>\n",
       "  </thead>\n",
       "  <tbody>\n",
       "    <tr>\n",
       "      <th>1</th>\n",
       "      <td>True</td>\n",
       "      <td>8.0</td>\n",
       "    </tr>\n",
       "    <tr>\n",
       "      <th>2</th>\n",
       "      <td>True</td>\n",
       "      <td>10.0</td>\n",
       "    </tr>\n",
       "    <tr>\n",
       "      <th>3</th>\n",
       "      <td>True</td>\n",
       "      <td>20.0</td>\n",
       "    </tr>\n",
       "    <tr>\n",
       "      <th>4</th>\n",
       "      <td>False</td>\n",
       "      <td>25.0</td>\n",
       "    </tr>\n",
       "    <tr>\n",
       "      <th>5</th>\n",
       "      <td>True</td>\n",
       "      <td>59.0</td>\n",
       "    </tr>\n",
       "  </tbody>\n",
       "</table>\n",
       "</div>"
      ],
      "text/plain": [
       "   Status  Survival_in_days\n",
       "1    True               8.0\n",
       "2    True              10.0\n",
       "3    True              20.0\n",
       "4   False              25.0\n",
       "5    True              59.0"
      ]
     },
     "execution_count": 3,
     "metadata": {},
     "output_type": "execute_result"
    }
   ],
   "source": [
    "import pandas as pd\n",
    "\n",
    "pd.DataFrame.from_records(data_y[[11, 5, 32, 13, 23]], index=range(1, 6))"
   ]
  },
  {
   "cell_type": "code",
   "execution_count": 4,
   "id": "b18b6cff-6251-4c43-9d0f-da3e90a25db8",
   "metadata": {},
   "outputs": [
    {
     "data": {
      "text/plain": [
       "Text(0.5, 0, 'time $t$')"
      ]
     },
     "execution_count": 4,
     "metadata": {},
     "output_type": "execute_result"
    },
    {
     "data": {
      "image/png": "[encoded data removed]",
      "text/plain": [
       "<Figure size 432x288 with 1 Axes>"
      ]
     },
     "metadata": {
      "needs_background": "light"
     },
     "output_type": "display_data"
    }
   ],
   "source": [
    "%matplotlib inline\n",
    "import matplotlib.pyplot as plt\n",
    "from sksurv.nonparametric import kaplan_meier_estimator\n",
    "\n",
    "time, survival_prob = kaplan_meier_estimator(data_y[\"Status\"], data_y[\"Survival_in_days\"])\n",
    "plt.step(time, survival_prob, where=\"post\")\n",
    "plt.ylabel(\"est. probability of survival $\\hat{S}(t)$\")\n",
    "plt.xlabel(\"time $t$\")"
   ]
  },
  {
   "cell_type": "markdown",
   "id": "0d839e40-ba2f-4665-840b-1537aa36be9f",
   "metadata": {},
   "source": [
    "### Función Kaplan-Meier por grupo\n",
    "\n",
    "Los pacientes inscritos en el Ensayo de Cáncer de Pulmón de la Administración de Veteranos fueron asignados al azar a uno de dos tratamientos: standard y un nuevo medicamento test. "
   ]
  },
  {
   "cell_type": "code",
   "execution_count": 5,
   "id": "494dbe96-87f0-46f3-9b28-e9be07047eab",
   "metadata": {},
   "outputs": [
    {
     "data": {
      "text/plain": [
       "standard    69\n",
       "test        68\n",
       "Name: Treatment, dtype: int64"
      ]
     },
     "execution_count": 5,
     "metadata": {},
     "output_type": "execute_result"
    }
   ],
   "source": [
    "data_x[\"Treatment\"].value_counts()"
   ]
  },
  {
   "cell_type": "markdown",
   "id": "76da07d1-9124-4644-a163-610d1568f5fc",
   "metadata": {},
   "source": [
    "#### Por tipo de Tratamiento"
   ]
  },
  {
   "cell_type": "code",
   "execution_count": 6,
   "id": "e8daa2f0-14d7-4a44-a9ac-8cc3e339797e",
   "metadata": {},
   "outputs": [
    {
     "data": {
      "text/plain": [
       "<matplotlib.legend.Legend at 0x7f5b68198df0>"
      ]
     },
     "execution_count": 6,
     "metadata": {},
     "output_type": "execute_result"
    },
    {
     "data": {
      "image/png": "[encoded data removed]",
      "text/plain": [
       "<Figure size 432x288 with 1 Axes>"
      ]
     },
     "metadata": {
      "needs_background": "light"
     },
     "output_type": "display_data"
    }
   ],
   "source": [
    "for treatment_type in (\"standard\", \"test\"):\n",
    "    mask_treat = data_x[\"Treatment\"] == treatment_type\n",
    "    time_treatment, survival_prob_treatment = kaplan_meier_estimator(\n",
    "        data_y[\"Status\"][mask_treat],\n",
    "        data_y[\"Survival_in_days\"][mask_treat])\n",
    "\n",
    "    plt.step(time_treatment, survival_prob_treatment, where=\"post\",\n",
    "             label=\"Treatment = %s\" % treatment_type)\n",
    "\n",
    "plt.ylabel(\"est. probability of survival $\\hat{S}(t)$\")\n",
    "plt.xlabel(\"time $t$\")\n",
    "plt.legend(loc=\"best\")"
   ]
  },
  {
   "cell_type": "markdown",
   "id": "99bd4a56-0397-4f0f-971c-b915a387844b",
   "metadata": {},
   "source": [
    "#### Por tipo de Celula"
   ]
  },
  {
   "cell_type": "code",
   "execution_count": 7,
   "id": "4ceb6681-db8c-4e28-ae32-b1c3a95de63f",
   "metadata": {},
   "outputs": [
    {
     "data": {
      "text/plain": [
       "<matplotlib.legend.Legend at 0x7f5a919ac640>"
      ]
     },
     "execution_count": 7,
     "metadata": {},
     "output_type": "execute_result"
    },
    {
     "data": {
      "image/png": "[encoded data removed]",
      "text/plain": [
       "<Figure size 432x288 with 1 Axes>"
      ]
     },
     "metadata": {
      "needs_background": "light"
     },
     "output_type": "display_data"
    }
   ],
   "source": [
    "for value in data_x[\"Celltype\"].unique():\n",
    "    mask = data_x[\"Celltype\"] == value\n",
    "    time_cell, survival_prob_cell = kaplan_meier_estimator(data_y[\"Status\"][mask],\n",
    "                                                           data_y[\"Survival_in_days\"][mask])\n",
    "    plt.step(time_cell, survival_prob_cell, where=\"post\",\n",
    "             label=\"%s (n = %d)\" % (value, mask.sum()))\n",
    "\n",
    "plt.ylabel(\"est. probability of survival $\\hat{S}(t)$\")\n",
    "plt.xlabel(\"time $t$\")\n",
    "plt.legend(loc=\"best\")"
   ]
  },
  {
   "cell_type": "markdown",
   "id": "241750d3-7af3-462d-afe0-48e3ce13fd21",
   "metadata": {},
   "source": [
    "## Modelos de Supervivenia Multivariado"
   ]
  },
  {
   "cell_type": "markdown",
   "id": "108e498b-4acc-4096-91dc-6b2ba0d68c45",
   "metadata": {},
   "source": [
    "### Modelo de Riesgo Proporcional de Cox"
   ]
  },
  {
   "cell_type": "code",
   "execution_count": null,
   "id": "60e4f7d9-fb60-4723-acb3-ebbb04441e7e",
   "metadata": {},
   "outputs": [
    {
     "data": {
      "text/html": [
       "<div>\n",
       "<style scoped>\n",
       "    .dataframe tbody tr th:only-of-type {\n",
       "        vertical-align: middle;\n",
       "    }\n",
       "\n",
       "    .dataframe tbody tr th {\n",
       "        vertical-align: top;\n",
       "    }\n",
       "\n",
       "    .dataframe thead th {\n",
       "        text-align: right;\n",
       "    }\n",
       "</style>\n",
       "<table border=\"1\" class=\"dataframe\">\n",
       "  <thead>\n",
       "    <tr style=\"text-align: right;\">\n",
       "      <th></th>\n",
       "      <th>Age_in_years</th>\n",
       "      <th>Celltype=large</th>\n",
       "      <th>Celltype=smallcell</th>\n",
       "      <th>Celltype=squamous</th>\n",
       "      <th>Karnofsky_score</th>\n",
       "      <th>Months_from_Diagnosis</th>\n",
       "      <th>Prior_therapy=yes</th>\n",
       "      <th>Treatment=test</th>\n",
       "    </tr>\n",
       "  </thead>\n",
       "  <tbody>\n",
       "    <tr>\n",
       "      <th>0</th>\n",
       "      <td>69.0</td>\n",
       "      <td>0.0</td>\n",
       "      <td>0.0</td>\n",
       "      <td>1.0</td>\n",
       "      <td>60.0</td>\n",
       "      <td>7.0</td>\n",
       "      <td>0.0</td>\n",
       "      <td>0.0</td>\n",
       "    </tr>\n",
       "    <tr>\n",
       "      <th>1</th>\n",
       "      <td>64.0</td>\n",
       "      <td>0.0</td>\n",
       "      <td>0.0</td>\n",
       "      <td>1.0</td>\n",
       "      <td>70.0</td>\n",
       "      <td>5.0</td>\n",
       "      <td>1.0</td>\n",
       "      <td>0.0</td>\n",
       "    </tr>\n",
       "    <tr>\n",
       "      <th>2</th>\n",
       "      <td>38.0</td>\n",
       "      <td>0.0</td>\n",
       "      <td>0.0</td>\n",
       "      <td>1.0</td>\n",
       "      <td>60.0</td>\n",
       "      <td>3.0</td>\n",
       "      <td>0.0</td>\n",
       "      <td>0.0</td>\n",
       "    </tr>\n",
       "    <tr>\n",
       "      <th>3</th>\n",
       "      <td>63.0</td>\n",
       "      <td>0.0</td>\n",
       "      <td>0.0</td>\n",
       "      <td>1.0</td>\n",
       "      <td>60.0</td>\n",
       "      <td>9.0</td>\n",
       "      <td>1.0</td>\n",
       "      <td>0.0</td>\n",
       "    </tr>\n",
       "    <tr>\n",
       "      <th>4</th>\n",
       "      <td>65.0</td>\n",
       "      <td>0.0</td>\n",
       "      <td>0.0</td>\n",
       "      <td>1.0</td>\n",
       "      <td>70.0</td>\n",
       "      <td>11.0</td>\n",
       "      <td>1.0</td>\n",
       "      <td>0.0</td>\n",
       "    </tr>\n",
       "  </tbody>\n",
       "</table>\n",
       "</div>"
      ],
      "text/plain": [
       "   Age_in_years  Celltype=large  Celltype=smallcell  Celltype=squamous  \\\n",
       "0          69.0             0.0                 0.0                1.0   \n",
       "1          64.0             0.0                 0.0                1.0   \n",
       "2          38.0             0.0                 0.0                1.0   \n",
       "3          63.0             0.0                 0.0                1.0   \n",
       "4          65.0             0.0                 0.0                1.0   \n",
       "\n",
       "   Karnofsky_score  Months_from_Diagnosis  Prior_therapy=yes  Treatment=test  \n",
       "0             60.0                    7.0                0.0             0.0  \n",
       "1             70.0                    5.0                1.0             0.0  \n",
       "2             60.0                    3.0                0.0             0.0  \n",
       "3             60.0                    9.0                1.0             0.0  \n",
       "4             70.0                   11.0                1.0             0.0  "
      ]
     },
     "execution_count": 8,
     "metadata": {},
     "output_type": "execute_result"
    }
   ],
   "source": [
    "# Primero, sin embargo, necesitamos convertir las variables categóricas en el conjunto de datos en valores numéricos.\n",
    "\n",
    "from sksurv.preprocessing import OneHotEncoder\n",
    "\n",
    "data_x_numeric = OneHotEncoder().fit_transform(data_x)\n",
    "data_x_numeric.head()"
   ]
  },
  {
   "cell_type": "code",
   "execution_count": 9,
   "id": "db3dbdfb-84e1-45b6-871e-ab95337b1ca4",
   "metadata": {},
   "outputs": [
    {
     "data": {
      "text/plain": [
       "CoxPHSurvivalAnalysis()"
      ]
     },
     "execution_count": 9,
     "metadata": {},
     "output_type": "execute_result"
    }
   ],
   "source": [
    "from sklearn import set_config\n",
    "from sksurv.linear_model import CoxPHSurvivalAnalysis\n",
    "\n",
    "set_config(display=\"text\")  # displays text representation of estimators\n",
    "\n",
    "estimator = CoxPHSurvivalAnalysis()\n",
    "estimator.fit(data_x_numeric, data_y)"
   ]
  },
  {
   "cell_type": "markdown",
   "id": "9dbcc3a4-475d-4874-a08f-05f5325aacd4",
   "metadata": {},
   "source": [
    "El resultado es un vector de coeficientes, uno para cada variable, donde cada valor corresponde a la razón de riesgo logarítmica."
   ]
  },
  {
   "cell_type": "code",
   "execution_count": 11,
   "id": "5d63f18c-3008-4f3a-87b1-bf19949e3b1e",
   "metadata": {},
   "outputs": [
    {
     "data": {
      "text/plain": [
       "Age_in_years            -0.008549\n",
       "Celltype=large          -0.788672\n",
       "Celltype=smallcell      -0.331813\n",
       "Celltype=squamous       -1.188299\n",
       "Karnofsky_score         -0.032622\n",
       "Months_from_Diagnosis   -0.000092\n",
       "Prior_therapy=yes        0.072327\n",
       "Treatment=test           0.289936\n",
       "dtype: float64"
      ]
     },
     "execution_count": 11,
     "metadata": {},
     "output_type": "execute_result"
    }
   ],
   "source": [
    "pd.Series(estimator.coef_, index=data_x_numeric.columns)"
   ]
  },
  {
   "cell_type": "markdown",
   "id": "f1c3bc13-f97d-47a3-93b0-0e53d71fa286",
   "metadata": {},
   "source": [
    "### Nuevas predicciones"
   ]
  },
  {
   "cell_type": "code",
   "execution_count": 13,
   "id": "ede37605-275c-4324-b1fa-9089b1c94af7",
   "metadata": {},
   "outputs": [
    {
     "data": {
      "text/html": [
       "<div>\n",
       "<style scoped>\n",
       "    .dataframe tbody tr th:only-of-type {\n",
       "        vertical-align: middle;\n",
       "    }\n",
       "\n",
       "    .dataframe tbody tr th {\n",
       "        vertical-align: top;\n",
       "    }\n",
       "\n",
       "    .dataframe thead th {\n",
       "        text-align: right;\n",
       "    }\n",
       "</style>\n",
       "<table border=\"1\" class=\"dataframe\">\n",
       "  <thead>\n",
       "    <tr style=\"text-align: right;\">\n",
       "      <th></th>\n",
       "      <th>Age_in_years</th>\n",
       "      <th>Celltype=large</th>\n",
       "      <th>Celltype=smallcell</th>\n",
       "      <th>Celltype=squamous</th>\n",
       "      <th>Karnofsky_score</th>\n",
       "      <th>Months_from_Diagnosis</th>\n",
       "      <th>Prior_therapy=yes</th>\n",
       "      <th>Treatment=test</th>\n",
       "    </tr>\n",
       "  </thead>\n",
       "  <tbody>\n",
       "    <tr>\n",
       "      <th>1</th>\n",
       "      <td>65</td>\n",
       "      <td>0</td>\n",
       "      <td>0</td>\n",
       "      <td>1</td>\n",
       "      <td>60</td>\n",
       "      <td>1</td>\n",
       "      <td>0</td>\n",
       "      <td>1</td>\n",
       "    </tr>\n",
       "    <tr>\n",
       "      <th>2</th>\n",
       "      <td>65</td>\n",
       "      <td>0</td>\n",
       "      <td>0</td>\n",
       "      <td>1</td>\n",
       "      <td>60</td>\n",
       "      <td>1</td>\n",
       "      <td>0</td>\n",
       "      <td>0</td>\n",
       "    </tr>\n",
       "    <tr>\n",
       "      <th>3</th>\n",
       "      <td>65</td>\n",
       "      <td>0</td>\n",
       "      <td>1</td>\n",
       "      <td>0</td>\n",
       "      <td>60</td>\n",
       "      <td>1</td>\n",
       "      <td>0</td>\n",
       "      <td>0</td>\n",
       "    </tr>\n",
       "    <tr>\n",
       "      <th>4</th>\n",
       "      <td>65</td>\n",
       "      <td>0</td>\n",
       "      <td>1</td>\n",
       "      <td>0</td>\n",
       "      <td>60</td>\n",
       "      <td>1</td>\n",
       "      <td>0</td>\n",
       "      <td>1</td>\n",
       "    </tr>\n",
       "  </tbody>\n",
       "</table>\n",
       "</div>"
      ],
      "text/plain": [
       "   Age_in_years  Celltype=large  Celltype=smallcell  Celltype=squamous  \\\n",
       "1            65               0                   0                  1   \n",
       "2            65               0                   0                  1   \n",
       "3            65               0                   1                  0   \n",
       "4            65               0                   1                  0   \n",
       "\n",
       "   Karnofsky_score  Months_from_Diagnosis  Prior_therapy=yes  Treatment=test  \n",
       "1               60                      1                  0               1  \n",
       "2               60                      1                  0               0  \n",
       "3               60                      1                  0               0  \n",
       "4               60                      1                  0               1  "
      ]
     },
     "execution_count": 13,
     "metadata": {},
     "output_type": "execute_result"
    }
   ],
   "source": [
    "# Datos de pacientes sinteticos\n",
    "\n",
    "x_new = pd.DataFrame.from_dict({\n",
    "    1: [65, 0, 0, 1, 60, 1, 0, 1],\n",
    "    2: [65, 0, 0, 1, 60, 1, 0, 0],\n",
    "    3: [65, 0, 1, 0, 60, 1, 0, 0],\n",
    "    4: [65, 0, 1, 0, 60, 1, 0, 1]},\n",
    "     columns=data_x_numeric.columns, orient='index')\n",
    "x_new"
   ]
  },
  {
   "cell_type": "markdown",
   "id": "56ea6ac4-74b8-4d94-99cb-3d50528d6833",
   "metadata": {},
   "source": [
    "Similar a kaplan_meier_estimator, el método predict_survival_function devuelve la función de supervivencia, que podemos graficar."
   ]
  },
  {
   "cell_type": "code",
   "execution_count": 14,
   "id": "aee8a226-940f-4e4d-b483-9009e0037469",
   "metadata": {},
   "outputs": [
    {
     "data": {
      "text/plain": [
       "<matplotlib.legend.Legend at 0x7f5a916f3520>"
      ]
     },
     "execution_count": 14,
     "metadata": {},
     "output_type": "execute_result"
    },
    {
     "data": {
      "image/png": "[encoded data removed]",
      "text/plain": [
       "<Figure size 432x288 with 1 Axes>"
      ]
     },
     "metadata": {
      "needs_background": "light"
     },
     "output_type": "display_data"
    }
   ],
   "source": [
    "import numpy as np\n",
    "\n",
    "pred_surv = estimator.predict_survival_function(x_new)\n",
    "\n",
    "time_points = np.arange(1, 1000)\n",
    "for i, surv_func in enumerate(pred_surv):\n",
    "    plt.step(time_points, surv_func(time_points), where=\"post\",\n",
    "             label=\"Sample %d\" % (i + 1))\n",
    "plt.ylabel(\"est. probability of survival $\\hat{S}(t)$\")\n",
    "plt.xlabel(\"time $t$\")\n",
    "plt.legend(loc=\"best\")"
   ]
  },
  {
   "cell_type": "markdown",
   "id": "bd0cfc46-8f04-4b71-b875-3b863c629b14",
   "metadata": {},
   "source": [
    "## Metricas de Rendimiento\n",
    "\n",
    "Se utiliza la generalización del área bajo la curva de características operativas del receptor (ROC) llamada índice de concordancia de Harrell o índice c."
   ]
  },
  {
   "cell_type": "markdown",
   "id": "2b8e4c3d-3805-4f11-a004-9fb238a3bd40",
   "metadata": {},
   "source": [
    "### Indice C"
   ]
  },
  {
   "cell_type": "markdown",
   "id": "712561c3-4c9d-4848-bed7-96217d397f66",
   "metadata": {},
   "source": [
    "$\\sum_{j=1}^{n(h)} \\hat{H}_h(T_{j} \\mid x)$"
   ]
  },
  {
   "cell_type": "code",
   "execution_count": 60,
   "id": "a7d2f7f2-d45d-46f4-9b14-eae3b7aab635",
   "metadata": {},
   "outputs": [
    {
     "data": {
      "text/plain": [
       "\u001b[0;31mSignature:\u001b[0m \u001b[0mestimator\u001b[0m\u001b[0;34m.\u001b[0m\u001b[0mpredict\u001b[0m\u001b[0;34m(\u001b[0m\u001b[0mX\u001b[0m\u001b[0;34m,\u001b[0m \u001b[0mcheck_input\u001b[0m\u001b[0;34m=\u001b[0m\u001b[0;32mTrue\u001b[0m\u001b[0;34m)\u001b[0m\u001b[0;34m\u001b[0m\u001b[0;34m\u001b[0m\u001b[0m\n",
       "\u001b[0;31mDocstring:\u001b[0m\n",
       "Predict risk score.\n",
       "\n",
       "The risk score is the total number of events, which can\n",
       "be estimated by the sum of the estimated cumulative\n",
       "hazard function :math:`\\hat{H}_h` in terminal node :math:`h`.\n",
       "\n",
       ".. math::\n",
       "\n",
       "    \\sum_{j=1}^{n(h)} \\hat{H}_h(T_{j} \\mid x) ,\n",
       "\n",
       "where :math:`n(h)` denotes the number of distinct event times\n",
       "of samples belonging to the same terminal node as :math:`x`.\n",
       "\n",
       "Parameters\n",
       "----------\n",
       "X : array-like, shape = (n_samples, n_features)\n",
       "    Data matrix.\n",
       "\n",
       "check_input : boolean, default: True\n",
       "    Allow to bypass several input checking.\n",
       "    Don't use this parameter unless you know what you do.\n",
       "\n",
       "Returns\n",
       "-------\n",
       "risk_scores : ndarray, shape = (n_samples,)\n",
       "    Predicted risk scores.\n",
       "\u001b[0;31mFile:\u001b[0m      ~/.local/lib/python3.10/site-packages/sksurv/tree/tree.py\n",
       "\u001b[0;31mType:\u001b[0m      method\n"
      ]
     },
     "metadata": {},
     "output_type": "display_data"
    }
   ],
   "source": [
    "estimator.predict?"
   ]
  },
  {
   "cell_type": "code",
   "execution_count": 15,
   "id": "d27ed240-ffe4-410a-b93d-43f2c8b7f65e",
   "metadata": {},
   "outputs": [
    {
     "data": {
      "text/plain": [
       "0.7362562471603816"
      ]
     },
     "execution_count": 15,
     "metadata": {},
     "output_type": "execute_result"
    }
   ],
   "source": [
    "from sksurv.metrics import concordance_index_censored\n",
    "\n",
    "prediction = estimator.predict(data_x_numeric)\n",
    "result = concordance_index_censored(data_y[\"Status\"], data_y[\"Survival_in_days\"], prediction)\n",
    "result[0]"
   ]
  },
  {
   "cell_type": "code",
   "execution_count": 59,
   "id": "a31ac2a1-b0d7-48bb-928e-70718b6b1f9a",
   "metadata": {},
   "outputs": [
    {
     "data": {
      "text/plain": [
       "array([0.02384557, 0.01931031, 0.0310935 , 0.02697843, 0.01913535,\n",
       "       0.10433844, 0.04920934, 0.01249951, 0.04122681, 0.0170632 ,\n",
       "       0.02152643, 0.05157123, 0.06680799, 0.01543514, 0.02212875,\n",
       "       0.06015043, 0.07072052, 0.14426618, 0.03310055, 0.06277167,\n",
       "       0.12158086, 0.05713221, 0.06350155, 0.15468558, 0.03561104,\n",
       "       0.1842199 , 0.07777674, 0.05665106, 0.03924415, 0.13071222,\n",
       "       0.26061714, 0.03053453, 0.15464289, 0.03563489, 0.04569642,\n",
       "       0.06183095, 0.1614116 , 0.05715324, 0.03346532, 0.05961095,\n",
       "       0.04124455, 0.07584215, 0.09308121, 0.10878191, 0.11773932,\n",
       "       0.33175096, 0.06096803, 0.15953611, 0.05314137, 0.04794654,\n",
       "       0.12273336, 0.04253787, 0.26013546, 0.05497999, 0.05430359,\n",
       "       0.01966464, 0.05694283, 0.03098665, 0.03741467, 0.07400086,\n",
       "       0.02274083, 0.02528073, 0.02634076, 0.01419487, 0.01443171,\n",
       "       0.01899303, 0.02414333, 0.03162774, 0.05022849, 0.01462878,\n",
       "       0.01792393, 0.01986593, 0.05488974, 0.04380528, 0.02908094,\n",
       "       0.02442315, 0.13053475, 0.03502094, 0.01272017, 0.088502  ,\n",
       "       0.12335073, 0.02524957, 0.01250452, 0.0205906 , 0.05905281,\n",
       "       0.02419742, 0.03394561, 0.01397448, 0.06079208, 0.19976321,\n",
       "       0.0770829 , 0.27207208, 0.21208321, 0.08107916, 0.19130128,\n",
       "       0.24397276, 0.28377173, 0.08902503, 0.05280066, 0.03943273,\n",
       "       0.03525475, 0.05325891, 0.0537162 , 0.05801789, 0.10212724,\n",
       "       0.23209188, 0.14656402, 0.21695132, 0.21589209, 0.03247751,\n",
       "       0.070404  , 0.11103703, 0.13205511, 0.13064541, 0.10371558,\n",
       "       0.14869292, 0.0807954 , 0.48231752, 0.22065223, 0.07946218,\n",
       "       0.04245714, 0.06216847, 0.18247431, 0.20086563, 0.21141874,\n",
       "       0.05835963, 0.03715451, 0.17572128, 0.04873271, 0.13312578,\n",
       "       0.06058875, 0.02775804, 0.0301621 , 0.04960509, 0.03746318,\n",
       "       0.0256156 , 0.16629501])"
      ]
     },
     "execution_count": 59,
     "metadata": {},
     "output_type": "execute_result"
    }
   ],
   "source": [
    "np.exp(prediction)"
   ]
  },
  {
   "cell_type": "markdown",
   "id": "d5fbf705-e908-46fe-80a8-04f481826aa8",
   "metadata": {},
   "source": [
    "# Modelos Cox Penalizados"
   ]
  },
  {
   "cell_type": "markdown",
   "id": "5685f37e-c270-43c7-a63a-ef679793aac2",
   "metadata": {},
   "source": [
    "# Survival Tree"
   ]
  },
  {
   "cell_type": "code",
   "execution_count": 24,
   "id": "3333b95c-f543-4979-b06d-d49f62c35804",
   "metadata": {},
   "outputs": [],
   "source": [
    "import matplotlib.pyplot as plt\n",
    "from sksurv.datasets import load_whas500\n",
    "from sksurv.tree import SurvivalTree"
   ]
  },
  {
   "cell_type": "code",
   "execution_count": 69,
   "id": "ecc31d97-89e6-42cc-8722-8a8e4e8a5867",
   "metadata": {},
   "outputs": [],
   "source": [
    "X, y = load_whas500()\n",
    "X = X.astype(float)"
   ]
  },
  {
   "cell_type": "code",
   "execution_count": 72,
   "id": "63629e9f-3db7-4428-bbdb-c61f27810985",
   "metadata": {},
   "outputs": [],
   "source": [
    "estimator = SurvivalTree().fit(X, y)"
   ]
  },
  {
   "cell_type": "code",
   "execution_count": 73,
   "id": "a15abd26-37ce-4fcb-9657-3d28a59b40fe",
   "metadata": {},
   "outputs": [
    {
     "data": {
      "text/html": [
       "<div>\n",
       "<style scoped>\n",
       "    .dataframe tbody tr th:only-of-type {\n",
       "        vertical-align: middle;\n",
       "    }\n",
       "\n",
       "    .dataframe tbody tr th {\n",
       "        vertical-align: top;\n",
       "    }\n",
       "\n",
       "    .dataframe thead th {\n",
       "        text-align: right;\n",
       "    }\n",
       "</style>\n",
       "<table border=\"1\" class=\"dataframe\">\n",
       "  <thead>\n",
       "    <tr style=\"text-align: right;\">\n",
       "      <th></th>\n",
       "      <th>afb</th>\n",
       "      <th>age</th>\n",
       "      <th>av3</th>\n",
       "      <th>bmi</th>\n",
       "      <th>chf</th>\n",
       "      <th>cvd</th>\n",
       "      <th>diasbp</th>\n",
       "      <th>gender</th>\n",
       "      <th>hr</th>\n",
       "      <th>los</th>\n",
       "      <th>miord</th>\n",
       "      <th>mitype</th>\n",
       "      <th>sho</th>\n",
       "      <th>sysbp</th>\n",
       "    </tr>\n",
       "  </thead>\n",
       "  <tbody>\n",
       "    <tr>\n",
       "      <th>0</th>\n",
       "      <td>1.0</td>\n",
       "      <td>83.0</td>\n",
       "      <td>0.0</td>\n",
       "      <td>25.54051</td>\n",
       "      <td>0.0</td>\n",
       "      <td>1.0</td>\n",
       "      <td>78.0</td>\n",
       "      <td>0.0</td>\n",
       "      <td>89.0</td>\n",
       "      <td>5.0</td>\n",
       "      <td>1.0</td>\n",
       "      <td>0.0</td>\n",
       "      <td>0.0</td>\n",
       "      <td>152.0</td>\n",
       "    </tr>\n",
       "    <tr>\n",
       "      <th>1</th>\n",
       "      <td>0.0</td>\n",
       "      <td>49.0</td>\n",
       "      <td>0.0</td>\n",
       "      <td>24.02398</td>\n",
       "      <td>0.0</td>\n",
       "      <td>1.0</td>\n",
       "      <td>60.0</td>\n",
       "      <td>0.0</td>\n",
       "      <td>84.0</td>\n",
       "      <td>5.0</td>\n",
       "      <td>0.0</td>\n",
       "      <td>1.0</td>\n",
       "      <td>0.0</td>\n",
       "      <td>120.0</td>\n",
       "    </tr>\n",
       "    <tr>\n",
       "      <th>2</th>\n",
       "      <td>0.0</td>\n",
       "      <td>70.0</td>\n",
       "      <td>0.0</td>\n",
       "      <td>22.14290</td>\n",
       "      <td>0.0</td>\n",
       "      <td>0.0</td>\n",
       "      <td>88.0</td>\n",
       "      <td>1.0</td>\n",
       "      <td>83.0</td>\n",
       "      <td>5.0</td>\n",
       "      <td>0.0</td>\n",
       "      <td>1.0</td>\n",
       "      <td>0.0</td>\n",
       "      <td>147.0</td>\n",
       "    </tr>\n",
       "    <tr>\n",
       "      <th>3</th>\n",
       "      <td>0.0</td>\n",
       "      <td>70.0</td>\n",
       "      <td>0.0</td>\n",
       "      <td>26.63187</td>\n",
       "      <td>1.0</td>\n",
       "      <td>1.0</td>\n",
       "      <td>76.0</td>\n",
       "      <td>0.0</td>\n",
       "      <td>65.0</td>\n",
       "      <td>10.0</td>\n",
       "      <td>0.0</td>\n",
       "      <td>1.0</td>\n",
       "      <td>0.0</td>\n",
       "      <td>123.0</td>\n",
       "    </tr>\n",
       "    <tr>\n",
       "      <th>4</th>\n",
       "      <td>0.0</td>\n",
       "      <td>70.0</td>\n",
       "      <td>0.0</td>\n",
       "      <td>24.41255</td>\n",
       "      <td>0.0</td>\n",
       "      <td>1.0</td>\n",
       "      <td>85.0</td>\n",
       "      <td>0.0</td>\n",
       "      <td>63.0</td>\n",
       "      <td>6.0</td>\n",
       "      <td>0.0</td>\n",
       "      <td>1.0</td>\n",
       "      <td>0.0</td>\n",
       "      <td>135.0</td>\n",
       "    </tr>\n",
       "  </tbody>\n",
       "</table>\n",
       "</div>"
      ],
      "text/plain": [
       "   afb   age  av3       bmi  chf  cvd  diasbp  gender    hr   los  miord  \\\n",
       "0  1.0  83.0  0.0  25.54051  0.0  1.0    78.0     0.0  89.0   5.0    1.0   \n",
       "1  0.0  49.0  0.0  24.02398  0.0  1.0    60.0     0.0  84.0   5.0    0.0   \n",
       "2  0.0  70.0  0.0  22.14290  0.0  0.0    88.0     1.0  83.0   5.0    0.0   \n",
       "3  0.0  70.0  0.0  26.63187  1.0  1.0    76.0     0.0  65.0  10.0    0.0   \n",
       "4  0.0  70.0  0.0  24.41255  0.0  1.0    85.0     0.0  63.0   6.0    0.0   \n",
       "\n",
       "   mitype  sho  sysbp  \n",
       "0     0.0  0.0  152.0  \n",
       "1     1.0  0.0  120.0  \n",
       "2     1.0  0.0  147.0  \n",
       "3     1.0  0.0  123.0  \n",
       "4     1.0  0.0  135.0  "
      ]
     },
     "execution_count": 73,
     "metadata": {},
     "output_type": "execute_result"
    }
   ],
   "source": [
    "X.iloc[:5]"
   ]
  },
  {
   "cell_type": "code",
   "execution_count": 74,
   "id": "d54d0044-91d9-462f-b4b3-ce7df7a28a26",
   "metadata": {},
   "outputs": [
    {
     "data": {
      "text/html": [
       "<div>\n",
       "<style scoped>\n",
       "    .dataframe tbody tr th:only-of-type {\n",
       "        vertical-align: middle;\n",
       "    }\n",
       "\n",
       "    .dataframe tbody tr th {\n",
       "        vertical-align: top;\n",
       "    }\n",
       "\n",
       "    .dataframe thead th {\n",
       "        text-align: right;\n",
       "    }\n",
       "</style>\n",
       "<table border=\"1\" class=\"dataframe\">\n",
       "  <thead>\n",
       "    <tr style=\"text-align: right;\">\n",
       "      <th></th>\n",
       "      <th>fstat</th>\n",
       "      <th>lenfol</th>\n",
       "    </tr>\n",
       "  </thead>\n",
       "  <tbody>\n",
       "    <tr>\n",
       "      <th>0</th>\n",
       "      <td>False</td>\n",
       "      <td>2178.0</td>\n",
       "    </tr>\n",
       "    <tr>\n",
       "      <th>1</th>\n",
       "      <td>False</td>\n",
       "      <td>2172.0</td>\n",
       "    </tr>\n",
       "    <tr>\n",
       "      <th>2</th>\n",
       "      <td>False</td>\n",
       "      <td>2190.0</td>\n",
       "    </tr>\n",
       "    <tr>\n",
       "      <th>3</th>\n",
       "      <td>True</td>\n",
       "      <td>297.0</td>\n",
       "    </tr>\n",
       "    <tr>\n",
       "      <th>4</th>\n",
       "      <td>False</td>\n",
       "      <td>2131.0</td>\n",
       "    </tr>\n",
       "  </tbody>\n",
       "</table>\n",
       "</div>"
      ],
      "text/plain": [
       "   fstat  lenfol\n",
       "0  False  2178.0\n",
       "1  False  2172.0\n",
       "2  False  2190.0\n",
       "3   True   297.0\n",
       "4  False  2131.0"
      ]
     },
     "execution_count": 74,
     "metadata": {},
     "output_type": "execute_result"
    }
   ],
   "source": [
    "pd.DataFrame.from_dict(y).head()"
   ]
  },
  {
   "cell_type": "code",
   "execution_count": 75,
   "id": "a0521d7b-f244-46f0-b11a-cf009a5a699f",
   "metadata": {},
   "outputs": [
    {
     "data": {
      "text/plain": [
       "<matplotlib.legend.Legend at 0x7f5a8c17bcd0>"
      ]
     },
     "execution_count": 75,
     "metadata": {},
     "output_type": "execute_result"
    },
    {
     "data": {
      "image/png": "[encoded data removed]",
      "text/plain": [
       "<Figure size 432x288 with 1 Axes>"
      ]
     },
     "metadata": {
      "needs_background": "light"
     },
     "output_type": "display_data"
    }
   ],
   "source": [
    "pred_surv = estimator.predict_survival_function(X.iloc[:5])\n",
    "\n",
    "time_points = np.arange(1, 1000)\n",
    "for i, surv_func in enumerate(pred_surv):\n",
    "    plt.step(time_points, surv_func(time_points), where=\"post\",\n",
    "             label=\"Sample %d\" % (i + 1))\n",
    "plt.ylabel(\"est. probability of survival $\\hat{S}(t)$\")\n",
    "plt.xlabel(\"time $t$\")\n",
    "plt.legend(loc=\"best\")"
   ]
  },
  {
   "cell_type": "markdown",
   "id": "2a453ca0-a84f-431b-b8dc-67f88d640af6",
   "metadata": {},
   "source": [
    "# Random Survival Forests"
   ]
  },
  {
   "cell_type": "markdown",
   "id": "09e8a77e-3afe-4a9e-950d-f57344c13d69",
   "metadata": {},
   "source": [
    "Los arboles de supervivencia son arboles de clasificación y regresión capaces de trabajar con datos censurados. El enfoque particular se basa en como dividir los nodos de decisión, siendo la principal diferencia entre un árbol de clasificación, en la elección del criterio de división del nodo. El criterio de división se agrupa en dos categorías: (1) minimizar la homogeneidad dentro de los nodos, o (2) maximizar la heterogeneidad entre nodos. El primer enfoque minimiza la función de pérdida utilizando el criterio de homogeneidad dentro del nodo. El segundo enfoque utiliza la prueba estadística log-rank para medidas de heterogeneidad entre nodos [[fuente](https://doi.org/10.48550/arXiv.1708.04649)].\n",
    "\n",
    "Un bosque de supervivencia aleatorio garantiza que los árboles individuales se descorrelacionen 1) construyendo cada árbol en una muestra de arranque diferente de los datos de entrenamiento originales, y 2) en cada nodo, solo evalúe el criterio de división para un subconjunto de características y umbrales seleccionados al azar. Las predicciones se forman agregando predicciones de árboles individuales en el conjunto. \n",
    "\n",
    "El objetivo es predecir el tiempo de supervivencia libre de recurrencia."
   ]
  },
  {
   "cell_type": "code",
   "execution_count": 76,
   "id": "59ba3561-48bd-4035-87b3-06b7b53c0f02",
   "metadata": {},
   "outputs": [],
   "source": [
    "import pandas as pd\n",
    "import matplotlib.pyplot as plt\n",
    "import numpy as np\n",
    "%matplotlib inline\n",
    "\n",
    "from sklearn import set_config\n",
    "from sklearn.model_selection import train_test_split\n",
    "from sklearn.preprocessing import OrdinalEncoder\n",
    "\n",
    "from sksurv.datasets import load_gbsg2\n",
    "from sksurv.preprocessing import OneHotEncoder\n",
    "from sksurv.ensemble import RandomSurvivalForest\n",
    "\n",
    "set_config(display=\"text\")  # displays text representation of estimators"
   ]
  },
  {
   "cell_type": "code",
   "execution_count": 77,
   "id": "95803fe8-6f11-4055-8cfa-a606bddc19f5",
   "metadata": {},
   "outputs": [],
   "source": [
    "X, y = load_gbsg2()\n",
    "\n",
    "grade_str = X.loc[:, \"tgrade\"].astype(object).values[:, np.newaxis]\n",
    "grade_num = OrdinalEncoder(categories=[[\"I\", \"II\", \"III\"]]).fit_transform(grade_str)\n",
    "\n",
    "X_no_grade = X.drop(\"tgrade\", axis=1)\n",
    "Xt = OneHotEncoder().fit_transform(X_no_grade)\n",
    "Xt.loc[:, \"tgrade\"] = grade_num"
   ]
  },
  {
   "cell_type": "code",
   "execution_count": 78,
   "id": "0df7593f-2893-41a3-8da8-1536802d9be6",
   "metadata": {},
   "outputs": [],
   "source": [
    "random_state = 20\n",
    "\n",
    "X_train, X_test, y_train, y_test = train_test_split(\n",
    "    Xt, y, test_size=0.25, random_state=random_state)"
   ]
  },
  {
   "cell_type": "code",
   "execution_count": 79,
   "id": "e8abc76d-847c-4db6-a460-002e1e398dbc",
   "metadata": {},
   "outputs": [
    {
     "data": {
      "text/plain": [
       "RandomSurvivalForest(min_samples_leaf=15, min_samples_split=10,\n",
       "                     n_estimators=1000, n_jobs=-1, random_state=20)"
      ]
     },
     "execution_count": 79,
     "metadata": {},
     "output_type": "execute_result"
    }
   ],
   "source": [
    "rsf = RandomSurvivalForest(n_estimators=1000,\n",
    "                           min_samples_split=10,\n",
    "                           min_samples_leaf=15,\n",
    "                           n_jobs=-1,\n",
    "                           random_state=random_state)\n",
    "rsf.fit(X_train, y_train)"
   ]
  },
  {
   "cell_type": "markdown",
   "id": "ffc95137-e4d1-4868-84fc-7c9df0030276",
   "metadata": {},
   "source": [
    "Podemos comprobar qué tan bien funciona el modelo evaluándolo en los datos de prueba."
   ]
  },
  {
   "cell_type": "code",
   "execution_count": 80,
   "id": "d74a8e3d-c312-4c54-bae7-46cd62e03508",
   "metadata": {},
   "outputs": [
    {
     "data": {
      "text/plain": [
       "0.6759696016771488"
      ]
     },
     "execution_count": 80,
     "metadata": {},
     "output_type": "execute_result"
    }
   ],
   "source": [
    "rsf.score(X_test, y_test)"
   ]
  },
  {
   "cell_type": "code",
   "execution_count": 83,
   "id": "10ec4432-9f89-4467-ab67-d2b637accd1c",
   "metadata": {},
   "outputs": [
    {
     "data": {
      "text/plain": [
       "<matplotlib.legend.Legend at 0x7f5a7ff8dd50>"
      ]
     },
     "execution_count": 83,
     "metadata": {},
     "output_type": "execute_result"
    },
    {
     "data": {
      "image/png": "[encoded data removed]",
      "text/plain": [
       "<Figure size 432x288 with 1 Axes>"
      ]
     },
     "metadata": {
      "needs_background": "light"
     },
     "output_type": "display_data"
    }
   ],
   "source": [
    "pred_surv = rsf.predict_survival_function(X_train.iloc[:5])\n",
    "\n",
    "time_points = np.arange(72, 2372)\n",
    "for i, surv_func in enumerate(pred_surv):\n",
    "    plt.step(time_points, surv_func(time_points), where=\"post\",\n",
    "             label=\"Sample %d\" % (i + 1))\n",
    "plt.ylabel(\"est. probability of survival $\\hat{S}(t)$\")\n",
    "plt.xlabel(\"time $t$\")\n",
    "plt.legend(loc=\"best\")"
   ]
  }
 ],
 "metadata": {
  "kernelspec": {
   "display_name": "Python 3 (ipykernel)",
   "language": "python",
   "name": "python3"
  },
  "language_info": {
   "codemirror_mode": {
    "name": "ipython",
    "version": 3
   },
   "file_extension": ".py",
   "mimetype": "text/x-python",
   "name": "python",
   "nbconvert_exporter": "python",
   "pygments_lexer": "ipython3",
   "version": "3.10.4"
  }
 },
 "nbformat": 4,
 "nbformat_minor": 5
}
